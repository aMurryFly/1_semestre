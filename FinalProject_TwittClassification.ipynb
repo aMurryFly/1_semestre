{
  "nbformat": 4,
  "nbformat_minor": 0,
  "metadata": {
    "colab": {
      "name": "FinalProject_TwittClassification.ipynb",
      "provenance": [],
      "collapsed_sections": [
        "XSLPGPVT-B9D",
        "Hc1mgBEcDa5U",
        "IEKQ3cQZGaJn",
        "4BtLWd7jKCQi",
        "hl2CbFQBNdR2"
      ],
      "include_colab_link": true
    },
    "kernelspec": {
      "name": "python3",
      "display_name": "Python 3"
    },
    "language_info": {
      "name": "python"
    }
  },
  "cells": [
    {
      "cell_type": "markdown",
      "metadata": {
        "id": "view-in-github",
        "colab_type": "text"
      },
      "source": [
        "<a href=\"https://colab.research.google.com/github/aMurryFly/1_semestre/blob/master/FinalProject_TwittClassification.ipynb\" target=\"_parent\"><img src=\"https://colab.research.google.com/assets/colab-badge.svg\" alt=\"Open In Colab\"/></a>"
      ]
    },
    {
      "cell_type": "markdown",
      "metadata": {
        "id": "ea4zDKPJ9Bxk"
      },
      "source": [
        "# Final Project of APIT Course\n",
        "## Data Analysis and Text Classification AI Model on COVID-19 Tweets\n",
        "\n",
        "###(Análisis y Procesamiento Inteligente de textos)\n",
        "\n",
        "**Professor:**\n",
        "- Octavio Augusto Sánchez Velázquez\n",
        "\n",
        "**Students:**\n",
        "- Alfonso Murrieta Villegas\n",
        "- Edgar Michael Pérez Valdez\n"
      ]
    },
    {
      "cell_type": "markdown",
      "metadata": {
        "id": "XSLPGPVT-B9D"
      },
      "source": [
        "# 0. Aspectos generales \n"
      ]
    },
    {
      "cell_type": "markdown",
      "metadata": {
        "id": "Hc1mgBEcDa5U"
      },
      "source": [
        "## 0.0 Importación de bibliotecas y recursos para el análisis de datos en la etapa de pre-procesamiento"
      ]
    },
    {
      "cell_type": "code",
      "metadata": {
        "id": "NaJVggHCBtC0"
      },
      "source": [
        "#Bibliotecas generales\n",
        "import numpy as np\n",
        "import pandas as pd\n",
        "import matplotlib.pyplot as plt\n",
        "%matplotlib inline\n",
        "\n",
        "import seaborn as sns\n",
        "plt.style.use('ggplot')\n",
        "\n",
        "# Para la construcción del módelo\n",
        "from scipy.stats import norm\n",
        "from sklearn.preprocessing import StandardScaler\n",
        "from scipy import stats\n"
      ],
      "execution_count": 1,
      "outputs": []
    },
    {
      "cell_type": "code",
      "metadata": {
        "id": "iFY1L0JnDzvK"
      },
      "source": [
        "# Azúcar visual \n",
        "import warnings\n",
        "warnings.filterwarnings('ignore')\n",
        "\n",
        "#Para dar formato a los dataframes\n",
        "pd.set_option('display.max_rows', 500)\n",
        "pd.set_option('display.max_columns', 500)\n",
        "pd.set_option('display.width', 1000)"
      ],
      "execution_count": 2,
      "outputs": []
    },
    {
      "cell_type": "markdown",
      "metadata": {
        "id": "2wqkGKlrEWY_"
      },
      "source": [
        "## 0.1 Importando  y conociendo el dataset"
      ]
    },
    {
      "cell_type": "markdown",
      "metadata": {
        "id": "yaHZOgsJM0-e"
      },
      "source": [
        "### 0.1.0 Importando datos "
      ]
    },
    {
      "cell_type": "code",
      "metadata": {
        "id": "w7zVbrtJEWAe"
      },
      "source": [
        "test=pd.read_csv(\"/content/DataSet/Corona_NLP_test.csv\",encoding='latin1')\n",
        "train=pd.read_csv(\"/content/DataSet/Corona_NLP_train.csv\",encoding='latin1')"
      ],
      "execution_count": 3,
      "outputs": []
    },
    {
      "cell_type": "markdown",
      "metadata": {
        "id": "X8xdYPJaF6zm"
      },
      "source": [
        "Conociendo nuestros datos para el \"test\" del futuro módelo"
      ]
    },
    {
      "cell_type": "code",
      "metadata": {
        "colab": {
          "base_uri": "https://localhost:8080/",
          "height": 228
        },
        "id": "Ps6yAOk3FIQ4",
        "outputId": "fd49b045-919a-4bb3-ab82-49ab0f94d7e9"
      },
      "source": [
        "test.head(5)"
      ],
      "execution_count": 4,
      "outputs": [
        {
          "output_type": "execute_result",
          "data": {
            "text/html": [
              "<div>\n",
              "<style scoped>\n",
              "    .dataframe tbody tr th:only-of-type {\n",
              "        vertical-align: middle;\n",
              "    }\n",
              "\n",
              "    .dataframe tbody tr th {\n",
              "        vertical-align: top;\n",
              "    }\n",
              "\n",
              "    .dataframe thead th {\n",
              "        text-align: right;\n",
              "    }\n",
              "</style>\n",
              "<table border=\"1\" class=\"dataframe\">\n",
              "  <thead>\n",
              "    <tr style=\"text-align: right;\">\n",
              "      <th></th>\n",
              "      <th>UserName</th>\n",
              "      <th>ScreenName</th>\n",
              "      <th>Location</th>\n",
              "      <th>TweetAt</th>\n",
              "      <th>OriginalTweet</th>\n",
              "      <th>Sentiment</th>\n",
              "    </tr>\n",
              "  </thead>\n",
              "  <tbody>\n",
              "    <tr>\n",
              "      <th>0</th>\n",
              "      <td>1</td>\n",
              "      <td>44953</td>\n",
              "      <td>NYC</td>\n",
              "      <td>02-03-2020</td>\n",
              "      <td>TRENDING: New Yorkers encounter empty supermar...</td>\n",
              "      <td>Extremely Negative</td>\n",
              "    </tr>\n",
              "    <tr>\n",
              "      <th>1</th>\n",
              "      <td>2</td>\n",
              "      <td>44954</td>\n",
              "      <td>Seattle, WA</td>\n",
              "      <td>02-03-2020</td>\n",
              "      <td>When I couldn't find hand sanitizer at Fred Me...</td>\n",
              "      <td>Positive</td>\n",
              "    </tr>\n",
              "    <tr>\n",
              "      <th>2</th>\n",
              "      <td>3</td>\n",
              "      <td>44955</td>\n",
              "      <td>NaN</td>\n",
              "      <td>02-03-2020</td>\n",
              "      <td>Find out how you can protect yourself and love...</td>\n",
              "      <td>Extremely Positive</td>\n",
              "    </tr>\n",
              "    <tr>\n",
              "      <th>3</th>\n",
              "      <td>4</td>\n",
              "      <td>44956</td>\n",
              "      <td>Chicagoland</td>\n",
              "      <td>02-03-2020</td>\n",
              "      <td>#Panic buying hits #NewYork City as anxious sh...</td>\n",
              "      <td>Negative</td>\n",
              "    </tr>\n",
              "    <tr>\n",
              "      <th>4</th>\n",
              "      <td>5</td>\n",
              "      <td>44957</td>\n",
              "      <td>Melbourne, Victoria</td>\n",
              "      <td>03-03-2020</td>\n",
              "      <td>#toiletpaper #dunnypaper #coronavirus #coronav...</td>\n",
              "      <td>Neutral</td>\n",
              "    </tr>\n",
              "  </tbody>\n",
              "</table>\n",
              "</div>"
            ],
            "text/plain": [
              "   UserName  ScreenName             Location     TweetAt                                      OriginalTweet           Sentiment\n",
              "0         1       44953                  NYC  02-03-2020  TRENDING: New Yorkers encounter empty supermar...  Extremely Negative\n",
              "1         2       44954          Seattle, WA  02-03-2020  When I couldn't find hand sanitizer at Fred Me...            Positive\n",
              "2         3       44955                  NaN  02-03-2020  Find out how you can protect yourself and love...  Extremely Positive\n",
              "3         4       44956          Chicagoland  02-03-2020  #Panic buying hits #NewYork City as anxious sh...            Negative\n",
              "4         5       44957  Melbourne, Victoria  03-03-2020  #toiletpaper #dunnypaper #coronavirus #coronav...             Neutral"
            ]
          },
          "metadata": {
            "tags": []
          },
          "execution_count": 4
        }
      ]
    },
    {
      "cell_type": "code",
      "metadata": {
        "colab": {
          "base_uri": "https://localhost:8080/"
        },
        "id": "cjvyiX_MGASW",
        "outputId": "4e4cfceb-509c-4b84-b75a-61893d0680ba"
      },
      "source": [
        "test.shape[0]"
      ],
      "execution_count": 5,
      "outputs": [
        {
          "output_type": "execute_result",
          "data": {
            "text/plain": [
              "3798"
            ]
          },
          "metadata": {
            "tags": []
          },
          "execution_count": 5
        }
      ]
    },
    {
      "cell_type": "markdown",
      "metadata": {
        "id": "tKEwuVuKGHws"
      },
      "source": [
        "Conociendo nuestros datos para el \"train\" del futuro módelo"
      ]
    },
    {
      "cell_type": "code",
      "metadata": {
        "colab": {
          "base_uri": "https://localhost:8080/",
          "height": 228
        },
        "id": "M8JZuQqQFYFX",
        "outputId": "c5ba74be-82b3-4061-fadb-080f349ac0eb"
      },
      "source": [
        "train.head(5)"
      ],
      "execution_count": 6,
      "outputs": [
        {
          "output_type": "execute_result",
          "data": {
            "text/html": [
              "<div>\n",
              "<style scoped>\n",
              "    .dataframe tbody tr th:only-of-type {\n",
              "        vertical-align: middle;\n",
              "    }\n",
              "\n",
              "    .dataframe tbody tr th {\n",
              "        vertical-align: top;\n",
              "    }\n",
              "\n",
              "    .dataframe thead th {\n",
              "        text-align: right;\n",
              "    }\n",
              "</style>\n",
              "<table border=\"1\" class=\"dataframe\">\n",
              "  <thead>\n",
              "    <tr style=\"text-align: right;\">\n",
              "      <th></th>\n",
              "      <th>UserName</th>\n",
              "      <th>ScreenName</th>\n",
              "      <th>Location</th>\n",
              "      <th>TweetAt</th>\n",
              "      <th>OriginalTweet</th>\n",
              "      <th>Sentiment</th>\n",
              "    </tr>\n",
              "  </thead>\n",
              "  <tbody>\n",
              "    <tr>\n",
              "      <th>0</th>\n",
              "      <td>3799</td>\n",
              "      <td>48751</td>\n",
              "      <td>London</td>\n",
              "      <td>16-03-2020</td>\n",
              "      <td>@MeNyrbie @Phil_Gahan @Chrisitv https://t.co/i...</td>\n",
              "      <td>Neutral</td>\n",
              "    </tr>\n",
              "    <tr>\n",
              "      <th>1</th>\n",
              "      <td>3800</td>\n",
              "      <td>48752</td>\n",
              "      <td>UK</td>\n",
              "      <td>16-03-2020</td>\n",
              "      <td>advice Talk to your neighbours family to excha...</td>\n",
              "      <td>Positive</td>\n",
              "    </tr>\n",
              "    <tr>\n",
              "      <th>2</th>\n",
              "      <td>3801</td>\n",
              "      <td>48753</td>\n",
              "      <td>Vagabonds</td>\n",
              "      <td>16-03-2020</td>\n",
              "      <td>Coronavirus Australia: Woolworths to give elde...</td>\n",
              "      <td>Positive</td>\n",
              "    </tr>\n",
              "    <tr>\n",
              "      <th>3</th>\n",
              "      <td>3802</td>\n",
              "      <td>48754</td>\n",
              "      <td>NaN</td>\n",
              "      <td>16-03-2020</td>\n",
              "      <td>My food stock is not the only one which is emp...</td>\n",
              "      <td>Positive</td>\n",
              "    </tr>\n",
              "    <tr>\n",
              "      <th>4</th>\n",
              "      <td>3803</td>\n",
              "      <td>48755</td>\n",
              "      <td>NaN</td>\n",
              "      <td>16-03-2020</td>\n",
              "      <td>Me, ready to go at supermarket during the #COV...</td>\n",
              "      <td>Extremely Negative</td>\n",
              "    </tr>\n",
              "  </tbody>\n",
              "</table>\n",
              "</div>"
            ],
            "text/plain": [
              "   UserName  ScreenName   Location     TweetAt                                      OriginalTweet           Sentiment\n",
              "0      3799       48751     London  16-03-2020  @MeNyrbie @Phil_Gahan @Chrisitv https://t.co/i...             Neutral\n",
              "1      3800       48752         UK  16-03-2020  advice Talk to your neighbours family to excha...            Positive\n",
              "2      3801       48753  Vagabonds  16-03-2020  Coronavirus Australia: Woolworths to give elde...            Positive\n",
              "3      3802       48754        NaN  16-03-2020  My food stock is not the only one which is emp...            Positive\n",
              "4      3803       48755        NaN  16-03-2020  Me, ready to go at supermarket during the #COV...  Extremely Negative"
            ]
          },
          "metadata": {
            "tags": []
          },
          "execution_count": 6
        }
      ]
    },
    {
      "cell_type": "code",
      "metadata": {
        "colab": {
          "base_uri": "https://localhost:8080/"
        },
        "id": "zpIMU6keGQJb",
        "outputId": "df8282a1-657f-4965-f793-8684b76bebc3"
      },
      "source": [
        "train.shape[0]"
      ],
      "execution_count": 7,
      "outputs": [
        {
          "output_type": "execute_result",
          "data": {
            "text/plain": [
              "41157"
            ]
          },
          "metadata": {
            "tags": []
          },
          "execution_count": 7
        }
      ]
    },
    {
      "cell_type": "markdown",
      "metadata": {
        "id": "IEKQ3cQZGaJn"
      },
      "source": [
        "### 0.1.1 Relación Train y Test Data\n",
        "\n",
        "Observando relación del dataset de \"train y test\"\n",
        "\n",
        "**NOTA**: Para nuestra futura construcción del modelo de AI emplearemos una relación de 75 / 25 como típica convención "
      ]
    },
    {
      "cell_type": "code",
      "metadata": {
        "colab": {
          "base_uri": "https://localhost:8080/"
        },
        "id": "o-uabjyLGeeM",
        "outputId": "bd391120-d0a6-4947-9c00-5aa3a08a39b4"
      },
      "source": [
        "totalData = train.shape[0] + test.shape[0]\n",
        "print(\"Total de datos (filas)\", totalData)\n",
        "print(\"Relación del train respecto al total: \",train.shape[0]/totalData)\n",
        "print(\"Relación del test respecto al total: \",test.shape[0]/totalData)"
      ],
      "execution_count": 8,
      "outputs": [
        {
          "output_type": "stream",
          "text": [
            "Total de datos (filas) 44955\n",
            "Relación del train respecto al total:  0.9155155155155155\n",
            "Relación del test respecto al total:  0.08448448448448448\n"
          ],
          "name": "stdout"
        }
      ]
    },
    {
      "cell_type": "markdown",
      "metadata": {
        "id": "4BtLWd7jKCQi"
      },
      "source": [
        "### 0.1.2 Valores Nulos\n",
        "\n",
        "Conociendo valores nulos en el dataset\n",
        "\n",
        "NOTA: Se unieron los datos previamente para conocer la información global"
      ]
    },
    {
      "cell_type": "code",
      "metadata": {
        "id": "tNnRIbm6KBpq"
      },
      "source": [
        "concData=pd.concat([train,test])\n",
        "\n",
        "nullValues= concData.isnull().sum().sort_values(ascending=False)\n",
        "total =concData.shape[0]\n",
        "\n",
        "percent_missing= (concData.isnull().sum()/total).sort_values(ascending=False)\n",
        "loss_data= pd.concat([nullValues, percent_missing], axis=1, keys=['Datos nulos', 'Porcetaje'])"
      ],
      "execution_count": 9,
      "outputs": []
    },
    {
      "cell_type": "markdown",
      "metadata": {
        "id": "V_jOfafhNPoo"
      },
      "source": [
        "Imprimimos los datos obtenidos tras la concatenación de ambos dataframes"
      ]
    },
    {
      "cell_type": "code",
      "metadata": {
        "colab": {
          "base_uri": "https://localhost:8080/"
        },
        "id": "HWjZxBgGNMzX",
        "outputId": "2437e092-cbf5-4f84-b22d-15e1e1a544ec"
      },
      "source": [
        "print (loss_data)"
      ],
      "execution_count": 10,
      "outputs": [
        {
          "output_type": "stream",
          "text": [
            "               Datos nulos  Porcetaje\n",
            "Location              9424   0.209632\n",
            "Sentiment                0   0.000000\n",
            "OriginalTweet            0   0.000000\n",
            "TweetAt                  0   0.000000\n",
            "ScreenName               0   0.000000\n",
            "UserName                 0   0.000000\n"
          ],
          "name": "stdout"
        }
      ]
    },
    {
      "cell_type": "markdown",
      "metadata": {
        "id": "Jr7koSFTL6r5"
      },
      "source": [
        "**NOTA:** Podemos observar que hay una cantidad considerable de datos nulos en la columna de \"location\", sin embargo, para nuestro modelo no será necesaria esa información."
      ]
    },
    {
      "cell_type": "markdown",
      "metadata": {
        "id": "hl2CbFQBNdR2"
      },
      "source": [
        "### 0.1.3 Relación tweets / usuarios \n",
        "\n",
        "Al tomar una muestra lo recomendable es no sesgar la información como puede ser el caso de recopilar la información de una misma fuente, es decir, hacer un muestreo aleatorio\n",
        "\n",
        "Por lo que a continuación se verifica la realación tweets - usuarios (QUe tantos tweets pertenecen a un usuario)"
      ]
    },
    {
      "cell_type": "code",
      "metadata": {
        "colab": {
          "base_uri": "https://localhost:8080/"
        },
        "id": "0KOSvXXJOHHH",
        "outputId": "96b36f36-3acf-46c2-f090-9c2c73a63012"
      },
      "source": [
        "print('Total de tweets: ', concData.shape[0])\n",
        "print('Total de usuarios (Sin repetir alguno): ', concData['UserName'].nunique())"
      ],
      "execution_count": 11,
      "outputs": [
        {
          "output_type": "stream",
          "text": [
            "Total de tweets:  44955\n",
            "Total de usuarios (Sin repetir alguno):  44955\n"
          ],
          "name": "stdout"
        }
      ]
    },
    {
      "cell_type": "markdown",
      "metadata": {
        "id": "UqzDx-gEOtx9"
      },
      "source": [
        "**NOTA**: Podemos observar que no existe más de un tweet por usuario"
      ]
    },
    {
      "cell_type": "markdown",
      "metadata": {
        "id": "wsTURXnu-IhL"
      },
      "source": [
        "# 1. Análisis de datos"
      ]
    },
    {
      "cell_type": "markdown",
      "metadata": {
        "id": "VcPM3wWFUr0S"
      },
      "source": [
        "**NOTA**\n",
        "\n",
        "Para el análisis de datos y la construcción del modelo de AI de clasificación de Tweets fue necesario cambiar la cantidad de etiquetas dentro de la clasificación de tweets \n",
        "\n",
        "```python\n",
        "['Neutral' 'Positive' 'Extremely Negative' 'Negative' 'Extremely Positive']\n",
        "```\n",
        "a\n",
        "\n",
        "```python\n",
        "['Neutral' 'Positive' 'Negative' ]\n",
        "``` \n",
        "Donde los casos \"extremos\" fueron adjuntados en la etiqueta normal, es decir:\n",
        "\n",
        "'Extremely Negative', 'Negative' => 'Negative'\n",
        "\n",
        "'Extremely Positive', 'Positive' => 'Positive'\n",
        "\n",
        "**Justificación:** \n",
        "\n",
        "La primera razón del por qué se hará esta recategorización en las etiquetas de sentimal es debido a la complejidad algoritmica y recursos empleados al usar 3 etiquetas en vez de 5.\n",
        "\n",
        "Y la segunda razón es que encontramos algo subjetivo el decir que un tweet es \"extremadamente positivo\" o que solamente es \"positivo\". \n"
      ]
    },
    {
      "cell_type": "markdown",
      "metadata": {
        "id": "uGh1g1hPWmmm"
      },
      "source": [
        "## 1.1 Reetiquetando\n",
        "\n",
        "Muestreo de datos antes de reetiquetar los datos"
      ]
    },
    {
      "cell_type": "code",
      "metadata": {
        "colab": {
          "base_uri": "https://localhost:8080/"
        },
        "id": "iD7CJpHnWseX",
        "outputId": "e2206f4c-783f-470a-813d-edc86ab62c19"
      },
      "source": [
        "print(concData.Sentiment.value_counts())"
      ],
      "execution_count": 12,
      "outputs": [
        {
          "output_type": "stream",
          "text": [
            "Positive              12369\n",
            "Negative              10958\n",
            "Neutral                8332\n",
            "Extremely Positive     7223\n",
            "Extremely Negative     6073\n",
            "Name: Sentiment, dtype: int64\n"
          ],
          "name": "stdout"
        }
      ]
    },
    {
      "cell_type": "code",
      "metadata": {
        "colab": {
          "base_uri": "https://localhost:8080/",
          "height": 277
        },
        "id": "029qcLOrX2Xf",
        "outputId": "a14a3c55-a718-4f8b-a5e9-b242688d236e"
      },
      "source": [
        "pre_class_allData = concData.groupby('Sentiment').count()['OriginalTweet'].reset_index().sort_values(by='OriginalTweet',ascending=False)\n",
        "percent_class= pre_class_allData.OriginalTweet\n",
        "labels= pre_class_allData.Sentiment\n",
        "\n",
        "my_pie,_,_ = plt.pie(percent_class,radius = 1.2,labels=labels,autopct=\"%.1f%%\")\n",
        "\n",
        "plt.setp(my_pie, width=0.8, edgecolor='white') \n",
        "\n",
        "plt.show()"
      ],
      "execution_count": 13,
      "outputs": [
        {
          "output_type": "display_data",
          "data": {
            "image/png": "[encoded data removed]",
            "text/plain": [
              "<Figure size 432x288 with 1 Axes>"
            ]
          },
          "metadata": {
            "tags": []
          }
        }
      ]
    },
    {
      "cell_type": "markdown",
      "metadata": {
        "id": "WzH4KAR5Y_97"
      },
      "source": [
        "Reetiquetando datos"
      ]
    },
    {
      "cell_type": "code",
      "metadata": {
        "id": "qk6FUECaZEvh"
      },
      "source": [
        "def reetiqueta(x):\n",
        "    if x ==  \"Extremely Positive\":\n",
        "        return \"positive\"\n",
        "    elif x == \"Extremely Negative\":\n",
        "        return \"negative\"\n",
        "    elif x == \"Negative\":\n",
        "        return \"negative\"\n",
        "    elif x ==  \"Positive\":\n",
        "        return \"positive\"\n",
        "    else:\n",
        "        return \"neutral\""
      ],
      "execution_count": 14,
      "outputs": []
    },
    {
      "cell_type": "code",
      "metadata": {
        "colab": {
          "base_uri": "https://localhost:8080/"
        },
        "id": "-oVGgqgzZlNs",
        "outputId": "8483c63a-d5db-41dd-e69b-0350d4b89f45"
      },
      "source": [
        "dataFrame = concData \n",
        "dataFrame['sentiment']= concData['Sentiment'].apply(lambda x:reetiqueta(x))\n",
        "\n",
        "print(\"Distribución previa:\\n \", concData.Sentiment.value_counts())\n",
        "print(\"\\n\\n\\nDistribución actual: \\n\", dataFrame.sentiment.value_counts())"
      ],
      "execution_count": 15,
      "outputs": [
        {
          "output_type": "stream",
          "text": [
            "Distribución previa:\n",
            "  Positive              12369\n",
            "Negative              10958\n",
            "Neutral                8332\n",
            "Extremely Positive     7223\n",
            "Extremely Negative     6073\n",
            "Name: Sentiment, dtype: int64\n",
            "\n",
            "\n",
            "\n",
            "Distribución actual: \n",
            " positive    19592\n",
            "negative    17031\n",
            "neutral      8332\n",
            "Name: sentiment, dtype: int64\n"
          ],
          "name": "stdout"
        }
      ]
    },
    {
      "cell_type": "markdown",
      "metadata": {
        "id": "SsXBK-vyayLA"
      },
      "source": [
        "Nueva distribución de los datos y visualización del nuevo dataFrame"
      ]
    },
    {
      "cell_type": "code",
      "metadata": {
        "colab": {
          "base_uri": "https://localhost:8080/",
          "height": 228
        },
        "id": "pI5IcyXhb-Ey",
        "outputId": "53b3d595-acb7-4008-9180-508307f917e5"
      },
      "source": [
        "dataFrame.head()"
      ],
      "execution_count": 16,
      "outputs": [
        {
          "output_type": "execute_result",
          "data": {
            "text/html": [
              "<div>\n",
              "<style scoped>\n",
              "    .dataframe tbody tr th:only-of-type {\n",
              "        vertical-align: middle;\n",
              "    }\n",
              "\n",
              "    .dataframe tbody tr th {\n",
              "        vertical-align: top;\n",
              "    }\n",
              "\n",
              "    .dataframe thead th {\n",
              "        text-align: right;\n",
              "    }\n",
              "</style>\n",
              "<table border=\"1\" class=\"dataframe\">\n",
              "  <thead>\n",
              "    <tr style=\"text-align: right;\">\n",
              "      <th></th>\n",
              "      <th>UserName</th>\n",
              "      <th>ScreenName</th>\n",
              "      <th>Location</th>\n",
              "      <th>TweetAt</th>\n",
              "      <th>OriginalTweet</th>\n",
              "      <th>Sentiment</th>\n",
              "      <th>sentiment</th>\n",
              "    </tr>\n",
              "  </thead>\n",
              "  <tbody>\n",
              "    <tr>\n",
              "      <th>0</th>\n",
              "      <td>3799</td>\n",
              "      <td>48751</td>\n",
              "      <td>London</td>\n",
              "      <td>16-03-2020</td>\n",
              "      <td>@MeNyrbie @Phil_Gahan @Chrisitv https://t.co/i...</td>\n",
              "      <td>Neutral</td>\n",
              "      <td>neutral</td>\n",
              "    </tr>\n",
              "    <tr>\n",
              "      <th>1</th>\n",
              "      <td>3800</td>\n",
              "      <td>48752</td>\n",
              "      <td>UK</td>\n",
              "      <td>16-03-2020</td>\n",
              "      <td>advice Talk to your neighbours family to excha...</td>\n",
              "      <td>Positive</td>\n",
              "      <td>positive</td>\n",
              "    </tr>\n",
              "    <tr>\n",
              "      <th>2</th>\n",
              "      <td>3801</td>\n",
              "      <td>48753</td>\n",
              "      <td>Vagabonds</td>\n",
              "      <td>16-03-2020</td>\n",
              "      <td>Coronavirus Australia: Woolworths to give elde...</td>\n",
              "      <td>Positive</td>\n",
              "      <td>positive</td>\n",
              "    </tr>\n",
              "    <tr>\n",
              "      <th>3</th>\n",
              "      <td>3802</td>\n",
              "      <td>48754</td>\n",
              "      <td>NaN</td>\n",
              "      <td>16-03-2020</td>\n",
              "      <td>My food stock is not the only one which is emp...</td>\n",
              "      <td>Positive</td>\n",
              "      <td>positive</td>\n",
              "    </tr>\n",
              "    <tr>\n",
              "      <th>4</th>\n",
              "      <td>3803</td>\n",
              "      <td>48755</td>\n",
              "      <td>NaN</td>\n",
              "      <td>16-03-2020</td>\n",
              "      <td>Me, ready to go at supermarket during the #COV...</td>\n",
              "      <td>Extremely Negative</td>\n",
              "      <td>negative</td>\n",
              "    </tr>\n",
              "  </tbody>\n",
              "</table>\n",
              "</div>"
            ],
            "text/plain": [
              "   UserName  ScreenName   Location     TweetAt                                      OriginalTweet           Sentiment sentiment\n",
              "0      3799       48751     London  16-03-2020  @MeNyrbie @Phil_Gahan @Chrisitv https://t.co/i...             Neutral   neutral\n",
              "1      3800       48752         UK  16-03-2020  advice Talk to your neighbours family to excha...            Positive  positive\n",
              "2      3801       48753  Vagabonds  16-03-2020  Coronavirus Australia: Woolworths to give elde...            Positive  positive\n",
              "3      3802       48754        NaN  16-03-2020  My food stock is not the only one which is emp...            Positive  positive\n",
              "4      3803       48755        NaN  16-03-2020  Me, ready to go at supermarket during the #COV...  Extremely Negative  negative"
            ]
          },
          "metadata": {
            "tags": []
          },
          "execution_count": 16
        }
      ]
    },
    {
      "cell_type": "code",
      "metadata": {
        "colab": {
          "base_uri": "https://localhost:8080/",
          "height": 277
        },
        "id": "WCbbY6zga6NA",
        "outputId": "07cdb1ab-43bc-47c3-f076-a36470359671"
      },
      "source": [
        "class_allData = dataFrame.groupby('sentiment').count()['OriginalTweet'].reset_index().sort_values(by='OriginalTweet',ascending=False)\n",
        "percent_class= class_allData.OriginalTweet\n",
        "labels= class_allData.sentiment\n",
        "\n",
        "my_pie,_,_ = plt.pie(percent_class,radius = 1.2,labels=labels,autopct=\"%.1f%%\")\n",
        "\n",
        "plt.setp(my_pie, width=0.8, edgecolor='white') \n",
        "\n",
        "plt.show()"
      ],
      "execution_count": 17,
      "outputs": [
        {
          "output_type": "display_data",
          "data": {
            "image/png": "[encoded data removed]",
            "text/plain": [
              "<Figure size 432x288 with 1 Axes>"
            ]
          },
          "metadata": {
            "tags": []
          }
        }
      ]
    },
    {
      "cell_type": "markdown",
      "metadata": {
        "id": "9lbEOSXffBZu"
      },
      "source": [
        "## 1.2 Distribución de datos "
      ]
    },
    {
      "cell_type": "markdown",
      "metadata": {
        "id": "BtgEU0Yplh0M"
      },
      "source": [
        "### 1.2.1 Carácteres"
      ]
    },
    {
      "cell_type": "markdown",
      "metadata": {
        "id": "ivhE_V39ifSb"
      },
      "source": [
        "Gráficas para conocer la distribución dentro de cada clase en la etiqueta de sentimientos"
      ]
    },
    {
      "cell_type": "code",
      "metadata": {
        "colab": {
          "base_uri": "https://localhost:8080/",
          "height": 376
        },
        "id": "IeQXNSM9gSAu",
        "outputId": "a64bae68-4b61-4311-b58b-2dd7f261f3a2"
      },
      "source": [
        "fig,(ax1,ax2,ax3)=plt.subplots(1,3,figsize=(15,5))\n",
        "\n",
        "tweet_Pos=dataFrame[dataFrame['sentiment']==\"positive\"]['OriginalTweet'].str.len()\n",
        "ax1.hist(tweet_Pos,color='#FC0000')\n",
        "ax1.set_title('Tweets Positivos')\n",
        "\n",
        "tweet_Neg=dataFrame[dataFrame['sentiment']==\"negative\"]['OriginalTweet'].str.len()\n",
        "ax2.hist(tweet_Neg,color='#42F2F5')\n",
        "ax2.set_title('Tweets Negativos')\n",
        "\n",
        "tweet_Null=dataFrame[dataFrame['sentiment']==\"neutral\"]['OriginalTweet'].str.len()\n",
        "ax3.hist(tweet_Null,color='#A39191')\n",
        "ax3.set_title('Tweets Neutros')\n",
        "\n",
        "fig.suptitle('Letras por tweet')\n",
        "plt.show()"
      ],
      "execution_count": 18,
      "outputs": [
        {
          "output_type": "display_data",
          "data": {
            "image/png": "[encoded data removed]",
            "text/plain": [
              "<Figure size 1080x360 with 3 Axes>"
            ]
          },
          "metadata": {
            "tags": [],
            "needs_background": "light"
          }
        }
      ]
    },
    {
      "cell_type": "code",
      "metadata": {
        "id": "NoJOZA-EBQxa"
      },
      "source": [
        "# Agregando header para medias\n",
        "#Solo correr una vez\n",
        "tweet_Pos = tweet_Pos.to_frame('characters') \n",
        "tweet_Neg = tweet_Neg.to_frame('characters') \n",
        "tweet_Null = tweet_Null.to_frame('characters') "
      ],
      "execution_count": 19,
      "outputs": []
    },
    {
      "cell_type": "code",
      "metadata": {
        "id": "oq6Mz9uN3rzD",
        "colab": {
          "base_uri": "https://localhost:8080/"
        },
        "outputId": "b1b22428-f14b-43b2-8b4d-492fc0d3d23b"
      },
      "source": [
        "\n",
        "PosMedia = tweet_Pos['characters'].mean()\n",
        "NegMedia = tweet_Neg['characters'].mean()\n",
        "NullMedia = tweet_Null['characters'].mean()\n",
        "\n",
        "print(\"Promedio de carácteres en tweets positivos\",PosMedia )\n",
        "print(\"Promedio de carácteres en tweets negativos\",NegMedia )\n",
        "print(\"Promedio de caracteres en tweets nulos\",NullMedia )"
      ],
      "execution_count": 20,
      "outputs": [
        {
          "output_type": "stream",
          "text": [
            "Promedio de carácteres en tweets positivos 215.60090853409554\n",
            "Promedio de carácteres en tweets negativos 210.87358346544536\n",
            "Promedio de caracteres en tweets nulos 168.16082573211713\n"
          ],
          "name": "stdout"
        }
      ]
    },
    {
      "cell_type": "markdown",
      "metadata": {
        "id": "DSnCDBnEqqTT"
      },
      "source": [
        "**NOTA:**\n",
        "Podemos observar a priori que notamos ciertos patrones de asimetría en las respectivas distribuciones sin embargo observamos "
      ]
    },
    {
      "cell_type": "markdown",
      "metadata": {
        "id": "ImKgZxSrlmS9"
      },
      "source": [
        "### 1.2.2 Distribución y promedio de palabras \n"
      ]
    },
    {
      "cell_type": "code",
      "metadata": {
        "colab": {
          "base_uri": "https://localhost:8080/",
          "height": 411
        },
        "id": "BP8Hac06lvX0",
        "outputId": "bdb186e2-a906-481f-c994-6a06e9120b04"
      },
      "source": [
        "fig,(ax1,ax2, ax3)=plt.subplots(1,3,figsize=(15,5))\n",
        "fig.suptitle('Tamaño promedio de las palabras \\n')\n",
        "\n",
        "Pos_words=dataFrame[dataFrame['sentiment']==\"positive\"]['OriginalTweet'].str.split().apply(lambda x : [len(i) for i in x])\n",
        "sns.distplot(Pos_words.map(lambda x: np.mean(x)),ax=ax1,color='#FC0000')\n",
        "ax1.set_title('Positivo')\n",
        "ax1.set_xlim(0,20)\n",
        "\n",
        "Neg_word=dataFrame[dataFrame['sentiment']==\"negative\"]['OriginalTweet'].str.split().apply(lambda x : [len(i) for i in x])\n",
        "sns.distplot(Neg_word.map(lambda x: np.mean(x)),ax=ax2,color='#42F2F5')\n",
        "ax2.set_title('Negativo')\n",
        "ax2.set_xlim(0,20)\n",
        "\n",
        "Null_word=dataFrame[dataFrame['sentiment']==\"neutral\"]['OriginalTweet'].str.split().apply(lambda x : [len(i) for i in x])\n",
        "sns.distplot(Null_word.map(lambda x: np.mean(x)),ax=ax3,color='#A39191')\n",
        "ax3.set_title('Neutral')\n",
        "ax3.set_xlim(0,20)"
      ],
      "execution_count": 21,
      "outputs": [
        {
          "output_type": "execute_result",
          "data": {
            "text/plain": [
              "(0.0, 20.0)"
            ]
          },
          "metadata": {
            "tags": []
          },
          "execution_count": 21
        },
        {
          "output_type": "display_data",
          "data": {
            "image/png": "[encoded data removed]",
            "text/plain": [
              "<Figure size 1080x360 with 3 Axes>"
            ]
          },
          "metadata": {
            "tags": [],
            "needs_background": "light"
          }
        }
      ]
    },
    {
      "cell_type": "markdown",
      "metadata": {
        "id": "TvpjFRKqqnhJ"
      },
      "source": [
        "![image.png](data:image/png;base64,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)"
      ]
    },
    {
      "cell_type": "markdown",
      "metadata": {
        "id": "ItTYHdZa-LVy"
      },
      "source": [
        "# 2. Contruyendo el modelo de IA para clasificar\n",
        " "
      ]
    }
  ]
}